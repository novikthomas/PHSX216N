{
 "cells": [
  {
   "cell_type": "markdown",
   "id": "adf77117",
   "metadata": {},
   "source": [
    "# Python Functions"
   ]
  },
  {
   "cell_type": "code",
   "execution_count": 53,
   "id": "5d305813",
   "metadata": {},
   "outputs": [
    {
     "name": "stdout",
     "output_type": "stream",
     "text": [
      "R1 dQ =  0.098\n"
     ]
    }
   ],
   "source": [
    "def rule1(c,dA):\n",
    "    dQ=c*dA\n",
    "    return dQ\n",
    "    \n",
    "c=9.80\n",
    "dA=0.01\n",
    "\n",
    "dQ=rule1(c,dA)\n",
    "\n",
    "print (\"R1 dQ = \",dQ)"
   ]
  },
  {
   "cell_type": "code",
   "execution_count": 52,
   "id": "24e93ee7",
   "metadata": {},
   "outputs": [
    {
     "name": "stdout",
     "output_type": "stream",
     "text": [
      "R2 dQ =  12.348\n"
     ]
    }
   ],
   "source": [
    "def rule2(c,m,A,dA):\n",
    "    dQ=c*m*A**(m-1)*dA\n",
    "    return dQ\n",
    "\n",
    "c=9.80\n",
    "m=2\n",
    "A=12.6\n",
    "dA=0.05\n",
    "\n",
    "dQ=rule2(c,m,A,dA)\n",
    "\n",
    "print (\"R2 dQ = \",dQ)"
   ]
  },
  {
   "cell_type": "code",
   "execution_count": 51,
   "id": "583c0f5d",
   "metadata": {
    "scrolled": false
   },
   "outputs": [
    {
     "name": "stdout",
     "output_type": "stream",
     "text": [
      "R3 dQ = 0.011180339887498949\n"
     ]
    }
   ],
   "source": [
    "def rule3(dA,dB):\n",
    "    dQ=np.sqrt(dA**2+dB**2)\n",
    "    return dQ\n",
    "\n",
    "dx1=0.01\n",
    "dx2=0.005\n",
    "\n",
    "dx=rule3(dx1,dx2)\n",
    "\n",
    "print(\"R3 dQ =\",dx)"
   ]
  },
  {
   "cell_type": "code",
   "execution_count": 50,
   "id": "c0185c13",
   "metadata": {},
   "outputs": [
    {
     "name": "stdout",
     "output_type": "stream",
     "text": [
      "R4 dQ =  0.010845460245805273\n"
     ]
    }
   ],
   "source": [
    "def rule4(Q,m,dA,A,n,dB,B):\n",
    "    dQ=Q*(((m*dA)/A)**2+((n*dB)/B)**2)**(1/2)\n",
    "    return dQ\n",
    "    \n",
    "Q=14.6\n",
    "m=2\n",
    "dA=.005\n",
    "A=13.5\n",
    "n=1/2\n",
    "dB=.01\n",
    "B=89.6\n",
    "\n",
    "dQ=rule4(Q,m,dA,A,n,dB,B)\n",
    "\n",
    "print (\"R4 dQ = \",dQ)"
   ]
  },
  {
   "cell_type": "code",
   "execution_count": 49,
   "id": "282b9a85",
   "metadata": {},
   "outputs": [
    {
     "name": "stdout",
     "output_type": "stream",
     "text": [
      "Method 2 error in initial velocity = 0.014141951667893726\n"
     ]
    }
   ],
   "source": [
    "def method2_dvi(Q,m,dA,A,n,dB,B):\n",
    "    dQ=Q*(((m*dA)/A)**2+((n*dB)/B)**2)**(1/2)\n",
    "    return dQ\n",
    "\n",
    "Q=3.41\n",
    "m=1\n",
    "dA=.00635\n",
    "A=1.534\n",
    "n=-.5\n",
    "dB=.0005\n",
    "B=.990\n",
    "\n",
    "dQ=method2_dvi(Q,m,dA,A,n,dB,B)\n",
    "\n",
    "print (\"Method 2 error in initial velocity =\",dQ)"
   ]
  },
  {
   "cell_type": "markdown",
   "id": "511817c2",
   "metadata": {},
   "source": [
    "# Using Python for Calculations"
   ]
  },
  {
   "cell_type": "code",
   "execution_count": 44,
   "id": "402b1d4e",
   "metadata": {
    "scrolled": true
   },
   "outputs": [
    {
     "name": "stdout",
     "output_type": "stream",
     "text": [
      "The average of the dataset is: 1.1166666666666667\n",
      "The standard deviation of the dataset is 0.073282810879294\n"
     ]
    }
   ],
   "source": [
    "x=np.array([1.1,1.3,1.4,0.9,0.95,1.05])\n",
    "\n",
    "avg_x=np.average(x)\n",
    "err_x=np.std(x)/np.sqrt(6)\n",
    "print(\"The average of the dataset is:\",avg_x)\n",
    "print(\"The standard deviation of the dataset is\",err_x)"
   ]
  },
  {
   "cell_type": "markdown",
   "id": "9a4bfa53",
   "metadata": {},
   "source": [
    "# LaTeX in Jupyter Notebooks"
   ]
  },
  {
   "cell_type": "markdown",
   "id": "9e27882d",
   "metadata": {},
   "source": [
    "$\\delta Q = \\sqrt{(\\delta A)^2+(\\delta B)^2}$"
   ]
  },
  {
   "cell_type": "markdown",
   "id": "892cd162",
   "metadata": {},
   "source": [
    "$\\delta v_i = v_i\\sqrt{(\\frac{\\delta\\Delta x}{\\Delta x})^2+(\\frac{-\\frac{1}{2}\\delta\\Delta y}{\\Delta y})^2}$"
   ]
  },
  {
   "cell_type": "markdown",
   "id": "8d1d383b",
   "metadata": {},
   "source": [
    "# In-class work is below"
   ]
  },
  {
   "cell_type": "code",
   "execution_count": 19,
   "id": "d91928ad",
   "metadata": {},
   "outputs": [
    {
     "name": "stdout",
     "output_type": "stream",
     "text": [
      "c =  429.59999999999997\n"
     ]
    }
   ],
   "source": [
    "import numpy as np\n",
    "\n",
    "def fred(a,b):\n",
    "    c=(a+b)*12\n",
    "    return c\n",
    "\n",
    "a=12.7\n",
    "b=23.1\n",
    "\n",
    "c=fred(a,b)\n",
    "\n",
    "print(\"c = \",c)"
   ]
  },
  {
   "cell_type": "code",
   "execution_count": 7,
   "id": "a4e670b1",
   "metadata": {},
   "outputs": [
    {
     "name": "stdout",
     "output_type": "stream",
     "text": [
      "0.011180339887498949\n"
     ]
    }
   ],
   "source": [
    "def rule3(dA,dB):\n",
    "    dQ=np.sqrt(dA**2+dB**2)\n",
    "    return dQ\n",
    "\n",
    "dx1=0.01\n",
    "dx2=0.005\n",
    "\n",
    "dx=rule3(dx1,dx2)\n",
    "\n",
    "print(dx)"
   ]
  },
  {
   "cell_type": "code",
   "execution_count": 10,
   "id": "7c27babd",
   "metadata": {},
   "outputs": [
    {
     "name": "stdout",
     "output_type": "stream",
     "text": [
      "[ 3  6 36] [   9   36 1296]\n",
      "5.0 2.8674417556808756\n"
     ]
    }
   ],
   "source": [
    "x=np.array([1,2,12])\n",
    "\n",
    "y=x*3\n",
    "ysq=y**2\n",
    "print(y,ysq)\n",
    "\n",
    "avg_x=np.average(x)\n",
    "err_x=np.std(x)/np.sqrt(3)\n",
    "print(avg_x,err_x)"
   ]
  },
  {
   "cell_type": "markdown",
   "id": "c4924a2c",
   "metadata": {},
   "source": [
    "# big text using markdown"
   ]
  },
  {
   "cell_type": "markdown",
   "id": "01d5bfed",
   "metadata": {},
   "source": [
    "$F=g\\delta m$"
   ]
  },
  {
   "cell_type": "markdown",
   "id": "3720f21f",
   "metadata": {},
   "source": [
    "$Q=\\sqrt{(\\delta A)^2+(\\delta B)^2}$\n",
    "\n",
    "$W=\\frac{32x}{2}$"
   ]
  },
  {
   "cell_type": "code",
   "execution_count": null,
   "id": "7c67756c",
   "metadata": {},
   "outputs": [],
   "source": []
  }
 ],
 "metadata": {
  "kernelspec": {
   "display_name": "Python 3 (ipykernel)",
   "language": "python",
   "name": "python3"
  },
  "language_info": {
   "codemirror_mode": {
    "name": "ipython",
    "version": 3
   },
   "file_extension": ".py",
   "mimetype": "text/x-python",
   "name": "python",
   "nbconvert_exporter": "python",
   "pygments_lexer": "ipython3",
   "version": "3.9.12"
  }
 },
 "nbformat": 4,
 "nbformat_minor": 5
}
